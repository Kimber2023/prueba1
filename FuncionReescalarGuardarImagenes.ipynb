{
  "nbformat": 4,
  "nbformat_minor": 0,
  "metadata": {
    "colab": {
      "provenance": []
    },
    "kernelspec": {
      "name": "python3",
      "display_name": "Python 3"
    },
    "language_info": {
      "name": "python"
    }
  },
  "cells": [
    {
      "cell_type": "code",
      "source": [
        "import cv2\n",
        "import matplotlib.pyplot as plt\n",
        "import glob"
      ],
      "metadata": {
        "id": "x1qVSI6Uy6J1"
      },
      "execution_count": 36,
      "outputs": []
    },
    {
      "cell_type": "code",
      "source": [
        "imagenes_dataset = []\n",
        "etiquetas_dataset = []"
      ],
      "metadata": {
        "id": "BQj6jv6K4Gy8"
      },
      "execution_count": 42,
      "outputs": []
    },
    {
      "cell_type": "code",
      "source": [
        "file = '/content/1' \n",
        "\n",
        "for x in glob.iglob(f'{file}/*.png'):\n",
        "  #plt.imshow(x, cmap='gray')\n",
        "  print(x)\n",
        "  test_image = cv2.imread(x, cv2.IMREAD_GRAYSCALE )\n",
        "\n",
        "  # Formato de imagen\n",
        "  img_resized = cv2.resize(test_image, (28,28), )\n",
        "  img_resized = cv2.bitwise_not(img_resized)\n",
        "\n",
        "  # Guardar imagenes y etiquetas\n",
        "  imagenes_dataset.append(img_resized)\n",
        "  etiquetas_dataset.append(\"1\")\n",
        "\n",
        "  # Preview de la imagen de prueba\n",
        "  #plt.imshow(test_image, cmap='gray')"
      ],
      "metadata": {
        "colab": {
          "base_uri": "https://localhost:8080/"
        },
        "id": "GllJHs5fyxTk",
        "outputId": "1733d185-b3dc-4129-fcbe-4d7629b1a2a2"
      },
      "execution_count": 54,
      "outputs": [
        {
          "output_type": "stream",
          "name": "stdout",
          "text": [
            "/content/1/numero2.png\n",
            "/content/1/numero.png\n",
            "/content/1/numero1.png\n"
          ]
        }
      ]
    },
    {
      "cell_type": "code",
      "source": [
        "len(imagenes_dataset)\n",
        "plt.imshow(imagenes_dataset[0], cmap='gray')"
      ],
      "metadata": {
        "id": "AcFQrHam4gFv",
        "outputId": "03207088-657c-42fa-ae57-ae0475e32dc3",
        "colab": {
          "base_uri": "https://localhost:8080/"
        }
      },
      "execution_count": 52,
      "outputs": [
        {
          "output_type": "execute_result",
          "data": {
            "text/plain": [
              "6"
            ]
          },
          "metadata": {},
          "execution_count": 52
        }
      ]
    },
    {
      "cell_type": "code",
      "source": [
        "etiquetas_dataset"
      ],
      "metadata": {
        "id": "MqYIsOge4kVe",
        "outputId": "1f93237a-2cf1-4b1e-91dd-22ba60f39746",
        "colab": {
          "base_uri": "https://localhost:8080/"
        }
      },
      "execution_count": 53,
      "outputs": [
        {
          "output_type": "execute_result",
          "data": {
            "text/plain": [
              "['1', '1', '1', '1', '1', '1']"
            ]
          },
          "metadata": {},
          "execution_count": 53
        }
      ]
    }
  ]
}